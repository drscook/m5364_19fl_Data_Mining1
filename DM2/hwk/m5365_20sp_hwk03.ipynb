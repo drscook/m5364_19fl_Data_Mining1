{
  "nbformat": 4,
  "nbformat_minor": 0,
  "metadata": {
    "kernelspec": {
      "display_name": "Python 3",
      "language": "python",
      "name": "python3"
    },
    "language_info": {
      "codemirror_mode": {
        "name": "ipython",
        "version": 3
      },
      "file_extension": ".py",
      "mimetype": "text/x-python",
      "name": "python",
      "nbconvert_exporter": "python",
      "pygments_lexer": "ipython3",
      "version": "3.6.3"
    },
    "colab": {
      "name": "m5365_20sp_hwk03.ipynb",
      "provenance": [],
      "collapsed_sections": [],
      "include_colab_link": true
    }
  },
  "cells": [
    {
      "cell_type": "markdown",
      "metadata": {
        "id": "view-in-github",
        "colab_type": "text"
      },
      "source": [
        "<a href=\"https://colab.research.google.com/github/drscook/m5364_19fl_Data_Mining1/blob/master/DM2/hwk/m5365_20sp_hwk03.ipynb\" target=\"_parent\"><img src=\"https://colab.research.google.com/assets/colab-badge.svg\" alt=\"Open In Colab\"/></a>"
      ]
    },
    {
      "cell_type": "markdown",
      "metadata": {
        "id": "FKwkFcxf90CI",
        "colab_type": "text"
      },
      "source": [
        "Math 5365 - Data Mining 2\n",
        "\n",
        "Spring 2020, Tarleton State University\n",
        "\n",
        "Dr. Scott Cook\n",
        "\n",
        "Homework 03\n",
        "\n",
        "Due 2020/02/24\n",
        "\n",
        "# Goal: Extend prior Rudimentary Feedforward ANN code to handle classification.\n",
        "\n",
        "We wrote \"basic\" code to do feedforward ANN with all continuous variables.  But to handle a categorical (nominal) target variable, we need to make some adjustments.\n",
        "1. 1-hot encode the target variable -> if there are q levels, this gives q boolean indicator variables.  As a result, the output layer has contains q nodes.$\\sum\\limits_{j=1} A_{xj}$  $\\displaystyle \\sum_k{x}$\n",
        "\n",
        "2. Use the \"softmax\" activation function in the output layer.  This is given by $y_{ij} = \\frac{e^{x_{ij}}}{\\sum\\limits_{k}{e^{x_{ik}}}}$.  Softmax generalizes the logistic/sigmoid function to the case of more than 2 values, but introduces complexity (see below).\n",
        "\n",
        "3. Use the cross-entropy cost function.\n",
        "  - Let $y^*_{ij}$ denote the \"true\" value for row $i$ (1-hot encoded)\n",
        "    - $y^*_{ij}=1$ means row $i$ is actually class $j$\n",
        "    - $y^*_{ij}=0$ means row $i$ is actually NOT class $j$\n",
        "  - Let $\\hat{y}_{ij}$ denote the predicted value for row $i$ (ie. the output from node $j$ of the output layer $L$ for row $i$)\n",
        "    - $\\hat{y}_{ij}=0.37$ means the model assigns a 37\\% probability that row $i$ is class $j$\n",
        "  - The cross-entropy cost function is $C=\\sum\\limits_{i,j} y^*_{ij} log(\\hat{y}_{ij})$.\n",
        "\n",
        "Complexities:\n",
        "- Must code the cross-entropy cost function and its derivative.  Recall that $y^*_{ij}$ are *constants* because they are numbers from the given dataset; the variables are $\\hat{y}_{ij}$.  This is relatively easy.\n",
        "- Must code the softmax activation functino and its derivative.  This is more challenging, for the following reason.\n",
        "\n",
        "In previous activation functions, $y_{lij}$ depended only on the single variable  $x_{lij}$.  Thus\n",
        "$$\\frac{\\partial y_{l_1 i_i j_1}}{\\partial x_{l_2 i_2 j_2}} = 0$$\n",
        "unless all corresponding indices were equal ($l_1=l_2, i_1=i_2, j_1=j_2$).\n",
        "Thus\n",
        "$$\\frac{\\partial C}{\\partial x_{lik}} = \\frac{\\partial C}{\\partial y_{lik}} \\frac{\\partial y_{lik}}{\\partial x_{lik}}$$\n",
        "Thus, we could \"cheat\" and define the array DYDX to contain only the non-zero derivatives.  In code, this meant DYDX had shape $(n,p_l)$ and DCDX = DCDY * DYDX (elementwise)$\n",
        "\n",
        "But, for softmax, $y_{lij} = \\frac{e^{x_{lij}}}{\\sum\\limits_{k}{e^{x_{lik}}}}$.  Note that $y_{lij}$ is a function of all $x_{li0}, x_{li1}, \\dots, x_{lip_l}$, so that\n",
        "$$\\frac{\\partial y_{lij}}{\\partial x_{lik}} \\neq 0$$\n",
        "In other words, indices 1 \\& 2 must still match (as before), but index 3 can now differ.  As a result\n",
        "$$\\frac{\\partial C}{\\partial x_{lik}} = \\sum\\limits_{j}\\frac{\\partial C}{\\partial y_{lij}} \\frac{\\partial y_{lij}}{\\partial x_{lik}}$$\n",
        "\n",
        "The code effect is that DYDX must now have shape $(n,p_l,p_l)$ and DCDX involves the corresponding np.einsum using DCDY and DYDX.\n",
        "\n",
        "Now, we must recall some calculus to compute  $\\frac{\\partial y_{lij}}{\\partial x_{lik}}$.  Let $Z_{li} = \\sum\\limits_{k}{e^{x_{lik}}}$ and note that $\\frac{\\partial Z_{li}}{\\partial x_{lik}} = e^{x_{lik}}$ because all terms where $j \\neq k$ vanish.  Return to the definition of softmax $y_{ij} = \\frac{e^{x_{ij}}}{\\sum\\limits_{k}{e^{x_{ik}}}} = \\frac{e^{x_{ij}}}{Z_{li}}$ and use the quotient rule.\n",
        "\n",
        "\n",
        "\n",
        "## Your assignment\n",
        "\n",
        "I have tried to implement all of this into the prior code.  But it doesn't work.  I can't find the problem.  It is probably a code bug, but there is a non-zero chance I have a deeper misunderstanding.  Your job is to try to fix it and tell me what I have screwed up.\n",
        "\n",
        "I have been using https://www.deeplearningbook.org/contents/mlp.html as a guide.\n",
        "\n",
        "The first cell is the code base.\n",
        "\n",
        "The second cell is the same example used in the first generation of this code.  You can see that it does still work.\n",
        "\n",
        "The third cell creates colored Gaussian clusters.  It is a simple toy dataset to use for debugging the code.  You can see the the cost goes *UP*, rather than down, eventually producing nan's (I assume to do overflow in np.exp).\n"
      ]
    },
    {
      "cell_type": "code",
      "metadata": {
        "id": "6By4m63otGrk",
        "colab_type": "code",
        "colab": {
          "base_uri": "https://localhost:8080/",
          "height": 762
        },
        "outputId": "41854f57-7ca8-4d99-be26-1b0a1b36b186"
      },
      "source": [
        "## Define functions for later use\n",
        "\n",
        "import numpy as np\n",
        "import matplotlib.pyplot as plt\n",
        "import itertools as it\n",
        "\n",
        "\n",
        "def min_max_scale(y):\n",
        "    \"\"\"min-max-scaler\"\"\"\n",
        "    a = np.min(y)\n",
        "    r = np.max(y) - a\n",
        "    def scaler(y):\n",
        "        return (y - a) / r\n",
        "    def unscaler(z):\n",
        "        return z * r + a\n",
        "    return scaler, unscaler\n",
        "\n",
        "# reshapes dy as needed\n",
        "def DYDX_reshaper(DYDX):\n",
        "    \"\"\"\n",
        "    To incorporate softmax, backprop now expects DYDX to be shape (n,pl,pl);\n",
        "    it expected (n,pl) before.  This function reshapes (n,pl) to (n,pl,pl).\n",
        "    \"\"\"\n",
        "    n, p = DYDX.shape\n",
        "    return np.eye(p) * DYDX[...,np.newaxis]  # reshape DYDX to (n,p,p)\n",
        "\n",
        "# common activation functions and their derivatives\n",
        "def id():\n",
        "    def f(X):\n",
        "        return X.copy()\n",
        "    def df(X):\n",
        "        DYDX = np.ones_like(X)\n",
        "        return DYDX_reshaper(DYDX)\n",
        "    return f, df\n",
        "\n",
        "def relu():\n",
        "    def f(X):\n",
        "        Y = X.copy()\n",
        "        Y[Y<0] = 0.0\n",
        "        return Y\n",
        "    def df(X):\n",
        "        DYDX = (X>0).astype(float)\n",
        "        return DYDX_reshaper(DYDX)\n",
        "    return f, df\n",
        "\n",
        "def sigmoid():\n",
        "    def f(X):\n",
        "        return 1 / (1 + np.exp(-X))\n",
        "    def df(X):\n",
        "        DYDX = np.exp(-X) / (1 + np.exp(-X))**2\n",
        "        return DYDX_reshaper(DYDX)\n",
        "    return f, df\n",
        "\n",
        "def tanh():\n",
        "    def f(X):\n",
        "        Y = np.tanh(X)  # range is [-1, 1]\n",
        "        return Y / 2 + 1 / 2  # scales so range is [0,1]\n",
        "    def df(X):\n",
        "        DYDX = 1 - np.tanh(X)**2  # derivative of tanh\n",
        "        DYDX /= 2 # scaling factor from above\n",
        "        return DYDX_reshaper(DYDX)\n",
        "    return f, df\n",
        "\n",
        "def arctan():\n",
        "    def f(X):\n",
        "        Y = np.arctan(X)  # range is [-pi/2, pi/2]\n",
        "        return Y / np.pi + 1/2  # scales so range is [0,1]\n",
        "    def df(X):\n",
        "        DYDX = 1 / (1 + X**2)  # derivative of arctan\n",
        "        DYDX /= np.pi  # scaling factor from above\n",
        "        return DYDX_reshaper(DYDX)\n",
        "    return f, df\n",
        "\n",
        "def softmax():\n",
        "    \"\"\"\n",
        "    My attempt at softmax.  The bug may lie in here.\n",
        "    \"\"\"\n",
        "    def f(X):\n",
        "        Z = np.exp(X)\n",
        "        return Z / Z.sum(axis=1, keepdims=True)\n",
        "    def df(X):\n",
        "        n, p = X.shape\n",
        "        E = np.exp(X)\n",
        "        Z = E.sum(axis=1)\n",
        "        R = np.einsum('ij, ik -> ijk', E, E)  # \"right\" numerator term of DYDX\n",
        "        D = R * np.eye(p)  # Should set all terms when j!=k to 0\n",
        "        L = np.einsum('ijk, i -> ijk', D, Z)  # \"left\" numerator term of DYDM\n",
        "        return (L - R) / (Z**2)[:, np.newaxis, np.newaxis]\n",
        "    return f, df\n",
        "\n",
        "\n",
        "def mse_cost():\n",
        "    def f(pred, true):\n",
        "        e = pred - true\n",
        "        return (e**2).sum() / (2 * n)\n",
        "    def df(pred, true):\n",
        "        e = pred - true\n",
        "        return e / n\n",
        "    return f, df\n",
        "\n",
        "\n",
        "def cross_entropy_cost():\n",
        "    def f(pred, true):\n",
        "        e = - true * np.log(pred)\n",
        "        return e.sum()\n",
        "    def df(pred, true):\n",
        "        return - true / pred\n",
        "    return f, df\n",
        "\n",
        "\n",
        "def setup_ANN():\n",
        "    n, p = feat.shape\n",
        "    m, q = targ.shape\n",
        "    if m != n:\n",
        "        raise Exception('feat and targ must have the same number of rows')\n",
        "\n",
        "    nodes = [p] + hidden_nodes + [q]\n",
        "    L = len(nodes)\n",
        "\n",
        "    f, df = activation()\n",
        "    f = [f for l in range(L)]\n",
        "    df = [df for l in range(L)]\n",
        "    f[0], df[0] = id()\n",
        "\n",
        "    X, DCDX, Y, DCDY, B, DCDB, W, DCDW, DYDX = pre_allocate(n, nodes)\n",
        "    return n, p, m, q, nodes, L, f, df, X, DCDX, Y, DCDY, B, DCDB, W, DCDW, DYDX\n",
        "\n",
        "\n",
        "def pre_allocate(n, nodes):\n",
        "    ## pre-allocate variables\n",
        "\n",
        "    ## X[l,i,j] = input to node j of layer l for observation i; X[l] has shape (n, nodes[l])\n",
        "    X = [np.zeros(shape=[n,p]) for p in nodes]\n",
        "\n",
        "    ## DCDX[l,i,j] = partial derivative of cost wrt X[l,i,j]; DCDX[l] has shape (n, nodes[l])\n",
        "    DCDX = [np.zeros_like(x) for x in X]\n",
        "\n",
        "    ## Y[l,i,j] = output from node j of layer l for observation i; Y[l] has shape (n, nodes[l])\n",
        "    Y = [np.zeros(shape=[n,p]) for p in nodes]\n",
        "\n",
        "    ## DCDY[l,i,j] = partial derivative of cost wrt Y[l,i,j]; DCDY[h] has shape (n, nodes[l])\n",
        "    DCDY = [np.zeros_like(y) for y in Y]\n",
        "\n",
        "    ## B[l,k] = bias into node k of layer l+1; B[l] has shape nodes[l+1]\n",
        "    # B = [rnd.rand(p) for p in nodes[1:]]\n",
        "    B = [np.zeros(p) for p in nodes[1:]]\n",
        "\n",
        "    ## DCDB[l,k] = partial derivative of cost wrt B[l,k]; DCDB[l] has shape nodes[l+1]\n",
        "    DCDB = [np.zeros_like(b) for b in B]\n",
        "    \n",
        "    ## W[l,j,k] = weight of edge from node j of layer l to node k of layer l+1; W[l] has shape (nodes[l], nodes[l+1])\n",
        "    W_sh = [(i,o) for (i,o) in zip(nodes[:-1], nodes[1:])]  ## Generate shapes for W\n",
        "    W = [rnd.uniform(-1, 1, s) for s in W_sh]  # fill with uniformly random weights in [-1,1]\n",
        "    \n",
        "    ## DCDW[l,j,k] = partial derivative of cost wrt W[l,j,k]; DCDW[l] has shape (nodes[l], nodes[l+1])\n",
        "    DCDW = [np.zeros_like(w) for w in W]\n",
        "\n",
        "    ## DYDX[l,i,j,k] = partial derivative of Y[l,i,j] wrt X[l,i,k]; DYDX[l] has shape (n, nodes[l], nodes[l])\n",
        "    DYDX = [np.zeros(shape=[n,p,p]) for p in nodes]\n",
        "\n",
        "    return X, DCDX, Y, DCDY, B, DCDB, W, DCDW, DYDX\n",
        "\n",
        "\n",
        "def train_ANN(X, DCDX, Y, DCDY, B, DCDB, W, DCDW, DYDX):\n",
        "    cost_hist = []\n",
        "    for step in range(max_steps):\n",
        "        X[0] = feat.copy()\n",
        "        forward_propagate(X, Y)\n",
        "        C = cost(Y[-1], targ)\n",
        "        cost_hist.append(C)\n",
        "        if step % report_period == 0:\n",
        "            print(f\"step {step} cost = {C}\")\n",
        "\n",
        "        DCDY[-1] = dcost(Y[-1], targ)\n",
        "        backward_propagate(DCDX, DCDY, DCDB, DCDW, DYDX)\n",
        "        descend_gradient(B, W)\n",
        "    return cost_hist\n",
        "\n",
        "\n",
        "def forward_propagate(X, Y):\n",
        "    for l in range(L-1):\n",
        "        Y[l] = f[l](X[l])\n",
        "        X[l+1] = Y[l] @ W[l] + B[l]\n",
        "    l += 1\n",
        "    Y[l] = f[l](X[l])\n",
        "\n",
        "\n",
        "def backward_propagate(DCDX, DCDY, DCDB, DCDW, DYDX):\n",
        "    for l in reversed(range(L-1)):\n",
        "        DYDX[l+1] = df[l+1](X[l+1])\n",
        "        DCDX[l+1] = np.einsum('ij, ijk -> ik', DCDY[l+1], DYDX[l+1])\n",
        "        DCDY[l]   = np.einsum('ik, jk  -> ij', DCDX[l+1], W[l])\n",
        "        DCDW[l]   = np.einsum('ik, ij  -> jk', DCDX[l+1], Y[l])\n",
        "        DCDB[l]   = np.einsum('ik      -> k' , DCDX[l+1])\n",
        "        \n",
        "\n",
        "def descend_gradient(B, W):\n",
        "    # Compute magnitude of gradient - square all entries of DCDB & DCDW, add, sqrt\n",
        "    # We must do list comprehension over each layer b/c layers are not the same size\n",
        "    m = np.sqrt(np.sum([np.sum(B**2) + np.sum(W**2) for B,W in zip(DCDB, DCDW)]))\n",
        "    for l in range(L-1):\n",
        "        B[l] -= DCDB[l] / m * learn_rate\n",
        "        W[l] -= DCDW[l] / m * learn_rate\n",
        "\n",
        "\n",
        "# Verify that ranges of bounded activation functions really are [0,1]\n",
        "x = np.linspace(-10,10,1000)\n",
        "for f in [sigmoid, tanh, arctan]:\n",
        "    plt.plot(x, f()[0](x))\n",
        "    plt.show()"
      ],
      "execution_count": 4,
      "outputs": [
        {
          "output_type": "display_data",
          "data": {
            "image/png": "[encoded data removed]",
            "text/plain": [
              "<Figure size 432x288 with 1 Axes>"
            ]
          },
          "metadata": {
            "tags": []
          }
        },
        {
          "output_type": "display_data",
          "data": {
            "image/png": "[encoded data removed]",
            "text/plain": [
              "<Figure size 432x288 with 1 Axes>"
            ]
          },
          "metadata": {
            "tags": []
          }
        },
        {
          "output_type": "display_data",
          "data": {
            "image/png": "[encoded data removed]",
            "text/plain": [
              "<Figure size 432x288 with 1 Axes>"
            ]
          },
          "metadata": {
            "tags": []
          }
        }
      ]
    },
    {
      "cell_type": "code",
      "metadata": {
        "id": "G78L1ZRkPKZ8",
        "colab_type": "code",
        "outputId": "e6b62f2b-410b-48a7-d82a-3d0414e5fd93",
        "colab": {
          "base_uri": "https://localhost:8080/",
          "height": 560
        }
      },
      "source": [
        "import numpy as np\n",
        "import matplotlib.pyplot as plt\n",
        "rnd = np.random.RandomState(42)\n",
        "\n",
        "\n",
        "## make data\n",
        "feat = np.sort(np.linspace(-3, 3, 100))[:, np.newaxis]\n",
        "def f(x):\n",
        "    return np.exp(-x**2)\n",
        "y = f(feat)\n",
        "y_scaler, y_unscaler = min_max_scale(y)\n",
        "targ = y_scaler(y)\n",
        "\n",
        "\n",
        "\n",
        "## Set Hyperparameters\n",
        "hidden_nodes = [10,3] # list of node counts for each hidden layer\n",
        "\n",
        "# activation = relu\n",
        "activation = sigmoid\n",
        "# activation = tanh\n",
        "# activation = arctan\n",
        "\n",
        "cost, dcost = mse_cost()\n",
        "\n",
        "max_steps = 20000\n",
        "learn_rate = 0.1\n",
        "report_period = 10000\n",
        "\n",
        "\n",
        "\n",
        "## Setup & Train ANN\n",
        "n, p, m, q, nodes, L, f, df, X, DCDX, Y, DCDY, B, DCDB, W, DCDW, DYDX = setup_ANN()\n",
        "cost_hist = train_ANN(X, DCDX, Y, DCDY, B, DCDB, W, DCDW, DYDX)\n",
        "\n",
        "\n",
        "## Results\n",
        "fig = plt.plot()\n",
        "plt.plot(feat, targ)\n",
        "plt.plot(feat, Y[-1], '.')\n",
        "plt.show()\n",
        "\n",
        "\n",
        "fig, ax = plt.subplots()\n",
        "ax.plot(cost_hist)\n",
        "ax.set_xlabel('cycles')\n",
        "ax.set_ylabel('cost')\n",
        "plt.show()"
      ],
      "execution_count": 5,
      "outputs": [
        {
          "output_type": "stream",
          "text": [
            "step 0 cost = 0.06249706116692326\n",
            "step 10000 cost = 0.00027651037969071425\n"
          ],
          "name": "stdout"
        },
        {
          "output_type": "display_data",
          "data": {
            "image/png": "[encoded data removed]",
            "text/plain": [
              "<Figure size 432x288 with 1 Axes>"
            ]
          },
          "metadata": {
            "tags": []
          }
        },
        {
          "output_type": "display_data",
          "data": {
            "image/png": "[encoded data removed]",
            "text/plain": [
              "<Figure size 432x288 with 1 Axes>"
            ]
          },
          "metadata": {
            "tags": []
          }
        }
      ]
    },
    {
      "cell_type": "code",
      "metadata": {
        "id": "jDmJAsd3NwGp",
        "colab_type": "code",
        "outputId": "ed1345f1-174c-4ca2-e19d-38cea14f486a",
        "colab": {
          "base_uri": "https://localhost:8080/",
          "height": 1000
        }
      },
      "source": [
        "import numpy as np\n",
        "import matplotlib.pyplot as plt\n",
        "rnd = np.random.RandomState(42)\n",
        "\n",
        "\n",
        "## make data\n",
        "p = 2  # dimension\n",
        "clrs = np.array(['red', 'blue', 'green'])\n",
        "nl = 500  # samples for each color (level)\n",
        "\n",
        "q = len(clrs)  # colors (levels)\n",
        "n = q * nl  # samples total\n",
        "\n",
        "feat = np.zeros((n, p), dtype='float')\n",
        "targ = np.zeros((n, q), dtype='int')\n",
        "targ_clr = np.full(n, None)\n",
        "\n",
        "i = 0\n",
        "separation_factor = 10\n",
        "tightness_factor = 2\n",
        "\n",
        "for c, clr in enumerate(clrs):\n",
        "    mu  = separation_factor * rnd.uniform(-1, 1, p) # center for cluster\n",
        "    cov = tightness_factor  * rnd.uniform(-1, 1, (p, p))  # covariance matrix for cluster\n",
        "    cov = cov @ cov.T  # make cov positive semi-definite\n",
        "    z = rnd.multivariate_normal(mu, cov, nl)  # draw sample points\n",
        "    feat[i:i+nl] = z  # record in feat\n",
        "    targ_clr[i:i+nl] = clr  # record color\n",
        "    targ[i:i+nl, c] = True  # 1-hot encode color\n",
        "    i += nl\n",
        "\n",
        "fig, ax = plt.subplots()\n",
        "ax.scatter(*feat.T, c=targ_clr, s = 0.5)\n",
        "ax.axis('equal')\n",
        "ax.set_title('true')\n",
        "plt.show()\n",
        "\n",
        "\n",
        "\n",
        "## Set Hyperparameters\n",
        "hidden_nodes = [5] # list of node counts for each hidden layer\n",
        "\n",
        "# activation = relu\n",
        "# activation = sigmoid\n",
        "activation = tanh\n",
        "# activation = arctan\n",
        "\n",
        "cost, dcost = cross_entropy_cost()\n",
        "\n",
        "\n",
        "max_steps = 2000\n",
        "learn_rate = 0.1\n",
        "report_period = 100\n",
        "\n",
        "\n",
        "\n",
        "## Setup & Train ANN\n",
        "n, p, m, q, nodes, L, f, df, X, DCDX, Y, DCDY, B, DCDB, W, DCDW, DYDX = setup_ANN()\n",
        "\n",
        "f[-1], df[-1] = softmax()\n",
        "\n",
        "cost_hist = train_ANN(X, DCDX, Y, DCDY, B, DCDB, W, DCDW, DYDX)\n",
        "\n",
        "pred_clr = clrs[np.argmax(Y[-1], axis=1)]\n",
        "correct = targ_clr == pred_clr\n",
        "print(correct)\n",
        "\n",
        "## Results\n",
        "fig, ax = plt.subplots()\n",
        "ax.scatter(*feat.T, c=targ_clr, s = 0.5)\n",
        "ax.axis('equal')\n",
        "ax.set_title('true')\n",
        "plt.show()\n",
        "\n",
        "fig, ax = plt.subplots()\n",
        "ax.scatter(*feat.T, c=pred_clr, s = 0.5)\n",
        "ax.axis('equal')\n",
        "ax.set_title('pred')\n",
        "plt.show()\n",
        "\n",
        "\n",
        "\n",
        "\n",
        "fig, ax = plt.subplots()\n",
        "ax.plot(cost_hist)\n",
        "ax.set_xlabel('cycles')\n",
        "ax.set_ylabel('cost')\n",
        "plt.show()\n",
        "\n"
      ],
      "execution_count": 8,
      "outputs": [
        {
          "output_type": "display_data",
          "data": {
            "image/png": "[encoded data removed]",
            "text/plain": [
              "<Figure size 432x288 with 1 Axes>"
            ]
          },
          "metadata": {
            "tags": []
          }
        },
        {
          "output_type": "stream",
          "text": [
            "step 0 cost = 2400.46568871963\n",
            "step 100 cost = 12291.668548196767\n",
            "step 200 cost = 25225.97934940647\n",
            "step 300 cost = 37971.041613520654\n",
            "step 400 cost = 50567.39565471477\n",
            "step 500 cost = 63111.78877792643\n",
            "step 600 cost = 75636.18488120059\n",
            "step 700 cost = 88151.99849176744\n",
            "step 800 cost = 100663.94129983959\n",
            "step 900 cost = 113174.25170911718\n",
            "step 1000 cost = 125684.18693846458\n",
            "step 1100 cost = 138194.66516329543\n",
            "step 1200 cost = nan\n",
            "step 1300 cost = nan\n",
            "step 1400 cost = nan\n",
            "step 1500 cost = nan\n",
            "step 1600 cost = nan\n",
            "step 1700 cost = nan\n",
            "step 1800 cost = nan\n",
            "step 1900 cost = nan\n",
            "[ True  True  True ... False False False]\n"
          ],
          "name": "stdout"
        },
        {
          "output_type": "display_data",
          "data": {
            "image/png": "[encoded data removed]",
            "text/plain": [
              "<Figure size 432x288 with 1 Axes>"
            ]
          },
          "metadata": {
            "tags": []
          }
        },
        {
          "output_type": "display_data",
          "data": {
            "image/png": "[encoded data removed]",
            "text/plain": [
              "<Figure size 432x288 with 1 Axes>"
            ]
          },
          "metadata": {
            "tags": []
          }
        },
        {
          "output_type": "display_data",
          "data": {
            "image/png": "[encoded data removed]",
            "text/plain": [
              "<Figure size 432x288 with 1 Axes>"
            ]
          },
          "metadata": {
            "tags": []
          }
        }
      ]
    },
    {
      "cell_type": "code",
      "metadata": {
        "id": "_sW8d8Z6ykHk",
        "colab_type": "code",
        "outputId": "edfbff21-a63e-45e0-d4a5-8f5ad5af553c",
        "colab": {
          "base_uri": "https://localhost:8080/",
          "height": 533
        }
      },
      "source": [
        "## example from https://mattmazur.com/2015/03/17/a-step-by-step-backpropagation-example/, use sigmoid, cost=(e**2)/2\n",
        "%%time\n",
        "rnd = np.random.RandomState(42)\n",
        "\n",
        "\n",
        "## Set Hyperparameters\n",
        "hidden_nodes = [2]  # list of node counts for each hidden layer\n",
        "activation = sigmoid\n",
        "learn_rate = 0.5\n",
        "max_steps = 1\n",
        "report_period = 1\n",
        "\n",
        "\n",
        "## Get data\n",
        "feat = np.array([[.05,.1]])\n",
        "targ = np.array([[.01,.99]])\n",
        "\n",
        "\n",
        "## Setup & Train ANN\n",
        "n, p, m, q, nodes, L, cost, dcost, f, df, X, DCDX, Y, DCDY, B, DCDB, W, DCDW = setup_ANN()\n",
        "\n",
        "## example from https://mattmazur.com/2015/03/17/a-step-by-step-backpropagation-example/, use sigmoid activtion & square cost=(e**2)/(2n)\n",
        "W = [np.array([[0.15, 0.25], [0.20, 0.30]]),\n",
        "     np.array([[0.40, 0.50], [0.45, 0.55]])]\n",
        "\n",
        "cost_hist = train_ANN(feat, targ, X, DCDX, Y, DCDY, B, DCDB, W, DCDW)\n",
        "\n",
        "\n",
        "## Results\n",
        "for l in range(L):\n",
        "    print(f\"layer = {l}\")\n",
        "    print(\"X\")\n",
        "    print(X[l])\n",
        "    print(\"Y\")\n",
        "    print(Y[l])\n",
        "    if l < L-1:\n",
        "        print(\"W\")\n",
        "        print(W[l])\n",
        "        print(\"B\")\n",
        "        print(B[l])\n",
        "\n",
        "    print()"
      ],
      "execution_count": 0,
      "outputs": [
        {
          "output_type": "stream",
          "text": [
            "step 0 cost = 0.3218208039242589\n",
            "layer = 0\n",
            "X\n",
            "[[0.05 0.1 ]]\n",
            "Y\n",
            "[[0.05 0.1 ]]\n",
            "W\n",
            "[[0.14886932 0.24894401]\n",
            " [0.19773864 0.29788801]]\n",
            "B\n",
            "[0.35192656 0.92959445]\n",
            "\n",
            "layer = 1\n",
            "X\n",
            "[[0.40204012 0.99321431]]\n",
            "Y\n",
            "[[0.59917772 0.72972234]]\n",
            "W\n",
            "[[0.18975689 0.55535867]\n",
            " [0.1939506  0.61741983]]\n",
            "B\n",
            "[0.38110788 0.69104956]\n",
            "\n",
            "layer = 2\n",
            "X\n",
            "[[1.30004008 1.29959463]]\n",
            "Y\n",
            "[[0.78584173 0.78576675]]\n",
            "\n",
            "CPU times: user 6.22 ms, sys: 2.15 ms, total: 8.37 ms\n",
            "Wall time: 6.87 ms\n"
          ],
          "name": "stdout"
        }
      ]
    },
    {
      "cell_type": "code",
      "metadata": {
        "id": "8vYgz9_uIILL",
        "colab_type": "code",
        "colab": {}
      },
      "source": [
        ""
      ],
      "execution_count": 0,
      "outputs": []
    }
  ]
}