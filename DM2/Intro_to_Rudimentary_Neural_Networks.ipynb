{
  "nbformat": 4,
  "nbformat_minor": 0,
  "metadata": {
    "kernelspec": {
      "display_name": "Python 3",
      "language": "python",
      "name": "python3"
    },
    "language_info": {
      "codemirror_mode": {
        "name": "ipython",
        "version": 3
      },
      "file_extension": ".py",
      "mimetype": "text/x-python",
      "name": "python",
      "nbconvert_exporter": "python",
      "pygments_lexer": "ipython3",
      "version": "3.6.3"
    },
    "colab": {
      "name": "Intro to Rudimentary Neural Networks.ipynb",
      "provenance": [],
      "collapsed_sections": [],
      "include_colab_link": true
    }
  },
  "cells": [
    {
      "cell_type": "markdown",
      "metadata": {
        "id": "view-in-github",
        "colab_type": "text"
      },
      "source": [
        "<a href=\"https://colab.research.google.com/github/drscook/m5364_19fl_Data_Mining1/blob/master/DM2/Intro_to_Rudimentary_Neural_Networks.ipynb\" target=\"_parent\"><img src=\"https://colab.research.google.com/assets/colab-badge.svg\" alt=\"Open In Colab\"/></a>"
      ]
    },
    {
      "cell_type": "code",
      "metadata": {
        "id": "6By4m63otGrk",
        "colab_type": "code",
        "colab": {}
      },
      "source": [
        "## Define functions for later use\n",
        "\n",
        "import numpy as np\n",
        "import matplotlib.pyplot as plt\n",
        "import itertools as it\n",
        "\n",
        "# common activation functions and their derivatives\n",
        "def id():\n",
        "    def f(x):\n",
        "        return x.copy()\n",
        "    def df(x):\n",
        "        return np.ones_like(x)\n",
        "    return f, df\n",
        "\n",
        "def relu():\n",
        "    def f(x):\n",
        "        y = x.copy()\n",
        "        y[y<0] = 0.0\n",
        "        return y\n",
        "    def df(x):\n",
        "        return (x>0).astype(float)\n",
        "    return f, df\n",
        "\n",
        "def sigmoid():\n",
        "    def f(x):\n",
        "        return 1 / (1 + np.exp(-x))\n",
        "    def df(x):\n",
        "        return np.exp(-x) / (1 + np.exp(-x))**2\n",
        "    return f, df\n",
        "\n",
        "def tanh():\n",
        "    def f(x):\n",
        "        return np.tanh(x)\n",
        "    def df(x):\n",
        "        return 1 - np.tanh(x)**2\n",
        "    return f, df\n",
        "\n",
        "def arctan():\n",
        "    def f(x):\n",
        "        return np.arctan(x)\n",
        "    def df(x):\n",
        "        return 1 / (1 + x**2)\n",
        "    return f, df\n",
        "\n",
        "def square_cost():\n",
        "    def f(x):\n",
        "        return (x**2).sum() / (2 * n)\n",
        "    def df(x):\n",
        "        return x / n\n",
        "    return f, df\n",
        "\n",
        "\n",
        "def setup_ANN():\n",
        "    n, p = feat.shape\n",
        "    m, q = targ.shape\n",
        "    if m != n:\n",
        "        raise Exception('feat and targ must have the same number of rows')\n",
        "\n",
        "    nodes = [p] + hidden_nodes + [q]\n",
        "    layers = len(nodes)\n",
        "\n",
        "    cost, dcost = square_cost()\n",
        "    f, df = activation()\n",
        "    f = [f for l in range(layers)]\n",
        "    df = [df for l in range(layers)]\n",
        "    f[0], df[0] = id()\n",
        "\n",
        "    X, DCDX, Y, DCDY, B, DCDB, W, DCDW = pre_allocate(n, nodes)\n",
        "    return n, p, m, q, nodes, layers, cost, dcost, f, df, X, DCDX, Y, DCDY, B, DCDB, W, DCDW\n",
        "\n",
        "\n",
        "def pre_allocate(n, nodes):\n",
        "    ## pre-allocate variables\n",
        "\n",
        "    ## X[l,i,j] = input to node j of layer l for observation i; X[l] has shape (n, nodes[l])\n",
        "    X = [np.zeros(shape=[n,p]) for p in nodes]\n",
        "\n",
        "    ## DCDX[l,i,j] = partial derivative of cost wrt X[l,i,j]; DCDX[l] has shape (n, nodes[l])\n",
        "    DCDX = [np.zeros_like(x) for x in X]\n",
        "\n",
        "    ## Y[l,i,j] = output from node j of layer l for observation i; Y[l] has shape (n, nodes[l])\n",
        "    Y = [np.zeros(shape=[n,p]) for p in nodes]\n",
        "\n",
        "    ## DCDY[l,i,j] = partial derivative of cost wrt Y[l,i,j]; DCDY[h] has shape (n, nodes[l])\n",
        "    DCDY = [np.zeros_like(y) for y in Y]\n",
        "\n",
        "    ## B[l,k] = bias into node k of layer l+1; B[l] has shape nodes[l+1]\n",
        "    B = [rnd.rand(p) for p in nodes[1:]]\n",
        "\n",
        "    ## DCDB[l,k] = partial derivative of cost wrt B[l,k]; DCDB[l] has shape nodes[l+1]\n",
        "    DCDB = [np.zeros_like(b) for b in B]\n",
        "    \n",
        "    ## W[l,j,k] = weight of edge from node j of layer l to node k of layer l+1; W[l] has shape (nodes[l], nodes[l+1])\n",
        "    W_sh = [(i,o) for (i,o) in zip(nodes[:-1], nodes[1:])]  ## Generate shapes for W\n",
        "    W = [rnd.rand(*s) for s in W_sh]\n",
        "    \n",
        "    ## DCDW[l,j,k] = partial derivative of cost wrt W[l,j,k]; DCDW[l] has shape (nodes[l], nodes[l+1])\n",
        "    DCDW = [np.zeros_like(w) for w in W]\n",
        "\n",
        "    return X, DCDX, Y, DCDY, B, DCDB, W, DCDW\n",
        "\n",
        "\n",
        "def train_ANN(X, DCDX, Y, DCDY, B, DCDB, W, DCDW):\n",
        "    cost_hist = []\n",
        "    for step in range(max_steps):\n",
        "        X[0] = feat.copy()\n",
        "        forward_propagate(X, Y)\n",
        "        E = Y[-1] - targ  # note: choice of t-p vs p-t may impact the +/- sign in descend_gradient\n",
        "        C = cost(E)\n",
        "        cost_hist.append(C)\n",
        "        if step % report_period == 0:\n",
        "            print(f\"step {step} cost = {C}\")\n",
        "\n",
        "        # Check if good enough to stop now\n",
        "        if C < 1e-4:\n",
        "            print(f\"Terminate at step {step} cost = {C}\")\n",
        "            break\n",
        "\n",
        "        backward_propagate(DCDX, DCDY, DCDB, DCDW, E)\n",
        "        descend_gradient(B, W)\n",
        "    return cost_hist\n",
        "\n",
        "\n",
        "def forward_propagate(X, Y):\n",
        "    for l in range(layers-1):\n",
        "        Y[l] = f[l](X[l])\n",
        "        X[l+1] = Y[l] @ W[l] + B[l]\n",
        "    l += 1\n",
        "    Y[l] = f[l](X[l])\n",
        "\n",
        "\n",
        "def backward_propagate(DCDX, DCDY, DCDB, DCDW, E):\n",
        "    DCDY[-1] = dcost(E)\n",
        "    for l in reversed(range(layers-1)):\n",
        "        DCDX[l+1] = DCDY[l+1] * df[l+1](X[l+1])\n",
        "        DCDY[l]   = np.einsum('ik,jk->ij', DCDX[l+1], W[l])\n",
        "        DCDW[l]   = np.einsum('ik,ij->jk', DCDX[l+1], Y[l])\n",
        "        DCDB[l]   = np.einsum('ik->k'    , DCDX[l+1])\n",
        "        \n",
        "\n",
        "def descend_gradient(B, W):\n",
        "    # Compute magnitude of gradient - square all entries of DCDB & DCDW, add, sqrt\n",
        "    # We must do list comprehension over each layer b/c layers are not the same size\n",
        "    m = np.sqrt(np.sum([np.sum(B**2) + np.sum(W**2) for B,W in zip(DCDB, DCDW)]))\n",
        "    for l in range(layers-1):\n",
        "        B[l] -= DCDB[l] / m * learn_rate\n",
        "        W[l] -= DCDW[l] / m * learn_rate"
      ],
      "execution_count": 0,
      "outputs": []
    },
    {
      "cell_type": "code",
      "metadata": {
        "id": "NDyy5i59itbb",
        "colab_type": "code",
        "outputId": "40eda51f-1ce7-4feb-dcc7-fbee2d4a55b2",
        "colab": {
          "base_uri": "https://localhost:8080/",
          "height": 679
        }
      },
      "source": [
        "## Build Feedforward ANN to approximate f(x)=e^(-x^2)\n",
        "%%time\n",
        "rnd = np.random.RandomState(42)\n",
        "\n",
        "\n",
        "## Set Hyperparameters\n",
        "hidden_nodes = [5]# list of node counts for each hidden layer\n",
        "activation = sigmoid\n",
        "max_steps = 50000\n",
        "learn_rate = 0.1\n",
        "report_period = 1000\n",
        "\n",
        "\n",
        "## Get data\n",
        "feat = np.sort(np.linspace(-3, 3, 100))[:, np.newaxis]\n",
        "def f(x):\n",
        "    return np.exp(-1 * x**2)\n",
        "targ = f(feat)\n",
        "\n",
        "\n",
        "## Setup & Train ANN\n",
        "n, p, m, q, nodes, layers, cost, dcost, f, df, X, DCDX, Y, DCDY, B, DCDB, W, DCDW = setup_ANN()\n",
        "cost_hist = train_ANN(X, DCDX, Y, DCDY, B, DCDB, W, DCDW)\n",
        "\n",
        "\n",
        "## Results\n",
        "fig = plt.plot()\n",
        "plt.plot(feat, targ)\n",
        "plt.plot(feat, Y[-1], '.')\n",
        "plt.show()\n",
        "\n",
        "fig = plt.plot()\n",
        "plt.plot(cost_hist)\n",
        "plt.show()"
      ],
      "execution_count": 6,
      "outputs": [
        {
          "output_type": "stream",
          "text": [
            "step 0 cost = 0.20270172507623463\n",
            "step 1000 cost = 0.0004591928097724421\n",
            "step 2000 cost = 0.00029546758465187525\n",
            "step 3000 cost = 0.0002482094304830623\n",
            "step 4000 cost = 0.0002089875328038878\n",
            "step 5000 cost = 0.00015545782607007426\n",
            "step 6000 cost = 0.00010184579519749604\n",
            "Terminate at step 6052 cost = 9.999232782293785e-05\n"
          ],
          "name": "stdout"
        },
        {
          "output_type": "display_data",
          "data": {
            "image/png": "[encoded data removed]",
            "text/plain": [
              "<Figure size 432x288 with 1 Axes>"
            ]
          },
          "metadata": {
            "tags": []
          }
        },
        {
          "output_type": "display_data",
          "data": {
            "image/png": "[encoded data removed]",
            "text/plain": [
              "<Figure size 432x288 with 1 Axes>"
            ]
          },
          "metadata": {
            "tags": []
          }
        },
        {
          "output_type": "stream",
          "text": [
            "CPU times: user 1.78 s, sys: 77.3 ms, total: 1.86 s\n",
            "Wall time: 1.78 s\n"
          ],
          "name": "stdout"
        }
      ]
    },
    {
      "cell_type": "code",
      "metadata": {
        "id": "_sW8d8Z6ykHk",
        "colab_type": "code",
        "outputId": "edfbff21-a63e-45e0-d4a5-8f5ad5af553c",
        "colab": {
          "base_uri": "https://localhost:8080/",
          "height": 533
        }
      },
      "source": [
        "## example from https://mattmazur.com/2015/03/17/a-step-by-step-backpropagation-example/, use sigmoid, cost=(e**2)/2\n",
        "%%time\n",
        "rnd = np.random.RandomState(42)\n",
        "\n",
        "\n",
        "## Set Hyperparameters\n",
        "hidden_nodes = [2]  # list of node counts for each hidden layer\n",
        "activation = sigmoid\n",
        "learn_rate = 0.5\n",
        "max_steps = 1\n",
        "report_period = 1\n",
        "\n",
        "\n",
        "## Get data\n",
        "feat = np.array([[.05,.1]])\n",
        "targ = np.array([[.01,.99]])\n",
        "\n",
        "\n",
        "## Setup & Train ANN\n",
        "n, p, m, q, nodes, layers, cost, dcost, f, df, X, DCDX, Y, DCDY, B, DCDB, W, DCDW = setup_ANN()\n",
        "\n",
        "## example from https://mattmazur.com/2015/03/17/a-step-by-step-backpropagation-example/, use sigmoid activtion & square cost=(e**2)/(2n)\n",
        "W = [np.array([[0.15, 0.25], [0.20, 0.30]]),\n",
        "     np.array([[0.40, 0.50], [0.45, 0.55]])]\n",
        "\n",
        "cost_hist = train_ANN(X, DCDX, Y, DCDY, B, DCDB, W, DCDW)\n",
        "\n",
        "\n",
        "## Results\n",
        "for l in range(layers):\n",
        "    print(f\"layer = {l}\")\n",
        "    print(\"X\")\n",
        "    print(X[l])\n",
        "    print(\"Y\")\n",
        "    print(Y[l])\n",
        "    if l < layers-1:\n",
        "        print(\"W\")\n",
        "        print(W[l])\n",
        "        print(\"B\")\n",
        "        print(B[l])\n",
        "\n",
        "    print()"
      ],
      "execution_count": 7,
      "outputs": [
        {
          "output_type": "stream",
          "text": [
            "step 0 cost = 0.3218208039242589\n",
            "layer = 0\n",
            "X\n",
            "[[0.05 0.1 ]]\n",
            "Y\n",
            "[[0.05 0.1 ]]\n",
            "W\n",
            "[[0.14886932 0.24894401]\n",
            " [0.19773864 0.29788801]]\n",
            "B\n",
            "[0.35192656 0.92959445]\n",
            "\n",
            "layer = 1\n",
            "X\n",
            "[[0.40204012 0.99321431]]\n",
            "Y\n",
            "[[0.59917772 0.72972234]]\n",
            "W\n",
            "[[0.18975689 0.55535867]\n",
            " [0.1939506  0.61741983]]\n",
            "B\n",
            "[0.38110788 0.69104956]\n",
            "\n",
            "layer = 2\n",
            "X\n",
            "[[1.30004008 1.29959463]]\n",
            "Y\n",
            "[[0.78584173 0.78576675]]\n",
            "\n",
            "CPU times: user 6.22 ms, sys: 2.15 ms, total: 8.37 ms\n",
            "Wall time: 6.87 ms\n"
          ],
          "name": "stdout"
        }
      ]
    },
    {
      "cell_type": "code",
      "metadata": {
        "id": "8vYgz9_uIILL",
        "colab_type": "code",
        "colab": {}
      },
      "source": [
        ""
      ],
      "execution_count": 0,
      "outputs": []
    }
  ]
}